{
 "cells": [
  {
   "cell_type": "code",
   "execution_count": 21,
   "id": "dbc73a70",
   "metadata": {},
   "outputs": [],
   "source": [
    "import pandas as pd"
   ]
  },
  {
   "cell_type": "code",
   "execution_count": 25,
   "id": "122eb8d4",
   "metadata": {},
   "outputs": [],
   "source": [
    "target_df = pd.read_csv(\"target_data.csv\")"
   ]
  },
  {
   "cell_type": "markdown",
   "id": "1be8055a",
   "metadata": {},
   "source": [
    "no port available to open Jupyter Notebook in container, \n",
    "So extracted the target data in csv file to do Data Validation and Data Analysis"
   ]
  },
  {
   "cell_type": "markdown",
   "id": "0a0953c8",
   "metadata": {},
   "source": [
    "# Data Validation #######"
   ]
  },
  {
   "cell_type": "markdown",
   "id": "79bd47b2",
   "metadata": {},
   "source": [
    "##### ORDER_ID AND ITEM_ID ARE UNIQUE ####"
   ]
  },
  {
   "cell_type": "code",
   "execution_count": 40,
   "id": "4bc1f53a",
   "metadata": {},
   "outputs": [
    {
     "name": "stdout",
     "output_type": "stream",
     "text": [
      "True\n"
     ]
    }
   ],
   "source": [
    "is_unique = not target_df[['item_id','order_id']].duplicated().any()\n",
    "print(is_unique)"
   ]
  },
  {
   "cell_type": "markdown",
   "id": "7ba27a31",
   "metadata": {},
   "source": [
    "##### CUTOMER_EMAIL IN CORRECT PATTERN ####"
   ]
  },
  {
   "cell_type": "code",
   "execution_count": 50,
   "id": "a211cf81",
   "metadata": {},
   "outputs": [
    {
     "name": "stdout",
     "output_type": "stream",
     "text": [
      "True\n"
     ]
    }
   ],
   "source": [
    "import re\n",
    "mail_pat = r'[^@]+@[^@]+\\.[^@]+'\n",
    "is_vaild_mail = target_df['customer_email'].str.contains(mail_pat, regex=True).all()\n",
    "print(is_vaild_mail)"
   ]
  },
  {
   "cell_type": "markdown",
   "id": "f13ebc8c",
   "metadata": {},
   "source": [
    "#### DOUBLE AND INT ARE NOT NULL ####"
   ]
  },
  {
   "cell_type": "code",
   "execution_count": 66,
   "id": "ed07c201",
   "metadata": {},
   "outputs": [
    {
     "name": "stdout",
     "output_type": "stream",
     "text": [
      "all numeric cols have non-null values\n"
     ]
    }
   ],
   "source": [
    "numeric_col = target_df.select_dtypes(include=['float','int']).columns\n",
    "if target_df['item_id'].notnull().all() and target_df['order_id'].notnull().all() and target_df['total_qty_ordered'].notnull().all() and target_df['customer_id'].notnull().all() and target_df['product_id'].notnull().all() and target_df['price'].notnull().all() and target_df['line_total'].notnull().all() and target_df['qty_ordered'].notnull().all():\n",
    "    print(\"all numeric cols have non-null values\")\n",
    "else:\n",
    "    print(\"some numeric cols have null value\")"
   ]
  },
  {
   "cell_type": "markdown",
   "id": "9470ad39",
   "metadata": {},
   "source": [
    "#### datetime in correct format ####"
   ]
  },
  {
   "cell_type": "code",
   "execution_count": 54,
   "id": "7444c22a",
   "metadata": {},
   "outputs": [
    {
     "name": "stdout",
     "output_type": "stream",
     "text": [
      "datetime in correct format\n"
     ]
    }
   ],
   "source": [
    "try:\n",
    "    pd.to_datetime(target_df['created_at_x'],format='%Y-%m-%d %H:%M:S')\n",
    "    print(\"datetime in correct format\")\n",
    "except ValueError:\n",
    "    print(\"some datetime in correct format\")"
   ]
  },
  {
   "cell_type": "markdown",
   "id": "7d75c0f4",
   "metadata": {},
   "source": [
    "# Data Analysis ######"
   ]
  },
  {
   "cell_type": "markdown",
   "id": "6dc56f7d",
   "metadata": {},
   "source": [
    "###### TOP 5 Customers ######"
   ]
  },
  {
   "cell_type": "code",
   "execution_count": 26,
   "id": "d8b25626",
   "metadata": {},
   "outputs": [
    {
     "name": "stdout",
     "output_type": "stream",
     "text": [
      "customer_id\n",
      "24    12710890.11\n",
      "41     3529486.87\n",
      "16      552567.44\n",
      "67      523210.61\n",
      "98      265845.11\n",
      "Name: line_total, dtype: float64\n"
     ]
    }
   ],
   "source": [
    "df_grouped = target_df.groupby(\"customer_id\")['line_total'].sum()\n",
    "top_5_customers = df_grouped.nlargest(5)\n",
    "print(top_5_customers)\n"
   ]
  },
  {
   "cell_type": "markdown",
   "id": "80ae41cc",
   "metadata": {},
   "source": [
    "###### TOP 5 SELLER #######"
   ]
  },
  {
   "cell_type": "code",
   "execution_count": 29,
   "id": "c3bf9afd",
   "metadata": {},
   "outputs": [
    {
     "name": "stdout",
     "output_type": "stream",
     "text": [
      "product_name\n",
      "LSA Red Wine Gls Clr | 210942128             279\n",
      "Set Of Twelve Tweezer Sharpeners             246\n",
      "Palm Mini Frame 4x6                          174\n",
      "Gold Nail Ear Jackets                        160\n",
      "Multi-coloured Desert Quartz Kosmos Scarf    128\n",
      "Name: qty_ordered, dtype: int64\n"
     ]
    }
   ],
   "source": [
    "df_grouped_product = target_df.groupby(\"product_name\")['qty_ordered'].sum()\n",
    "top_5_seller = df_grouped_product.nlargest(5)\n",
    "print(top_5_seller)\n"
   ]
  },
  {
   "cell_type": "markdown",
   "id": "0e0333dc",
   "metadata": {},
   "source": [
    "##### Least 5 Seller ####"
   ]
  },
  {
   "cell_type": "code",
   "execution_count": 30,
   "id": "c770ba8f",
   "metadata": {},
   "outputs": [
    {
     "name": "stdout",
     "output_type": "stream",
     "text": [
      "product_name\n",
      " La Rose Eau de Parfum, 70ml                      1\n",
      "10 Skin Base Foundation                           1\n",
      "103 MINI FRENCH COIN | 210785210                  1\n",
      "105mm Leda Pump - La | 210776328                  1\n",
      "105mm Leda Pump - Lace:White :39.5 - 210526961    1\n",
      "Name: qty_ordered, dtype: int64\n"
     ]
    }
   ],
   "source": [
    "df_grouped_lproduct = target_df.groupby(\"product_name\")['qty_ordered'].sum()\n",
    "least_5_seller = df_grouped_lproduct.nsmallest(5)\n",
    "print(least_5_seller)\n"
   ]
  },
  {
   "cell_type": "markdown",
   "id": "4f596c33",
   "metadata": {},
   "source": [
    "#### High Sales Days ####"
   ]
  },
  {
   "cell_type": "code",
   "execution_count": 37,
   "id": "dc431048",
   "metadata": {},
   "outputs": [
    {
     "name": "stdout",
     "output_type": "stream",
     "text": [
      "created_at_x\n",
      "2016-12-12    340\n",
      "2016-12-13    273\n",
      "2017-09-26    183\n",
      "2017-09-14    166\n",
      "2018-11-09    141\n",
      "Name: qty_ordered, dtype: int64\n"
     ]
    }
   ],
   "source": [
    "target_df['created_at_x'] = target_df['created_at_x'].str.split(' ').str[0]\n",
    "target_df['created_at_x'] = pd.to_datetime(target_df['created_at_x'])\n",
    "df_grouped_highsales = target_df.groupby(\"created_at_x\")['qty_ordered'].sum()\n",
    "high_sales = df_grouped_highsales.nlargest(5)\n",
    "print(high_sales)\n"
   ]
  },
  {
   "cell_type": "code",
   "execution_count": null,
   "id": "6ac3d216",
   "metadata": {},
   "outputs": [],
   "source": []
  }
 ],
 "metadata": {
  "kernelspec": {
   "display_name": "Python 3 (ipykernel)",
   "language": "python",
   "name": "python3"
  },
  "language_info": {
   "codemirror_mode": {
    "name": "ipython",
    "version": 3
   },
   "file_extension": ".py",
   "mimetype": "text/x-python",
   "name": "python",
   "nbconvert_exporter": "python",
   "pygments_lexer": "ipython3",
   "version": "3.9.6"
  }
 },
 "nbformat": 4,
 "nbformat_minor": 5
}
